{
 "cells": [
  {
   "cell_type": "code",
   "execution_count": 12,
   "metadata": {},
   "outputs": [],
   "source": [
    "import numpy as np\n",
    "import cv2 as cv"
   ]
  },
  {
   "cell_type": "code",
   "execution_count": 13,
   "metadata": {},
   "outputs": [
    {
     "name": "stdout",
     "output_type": "stream",
     "text": [
      "(640, 608, 3)\n",
      "(1985, 1985, 3)\n",
      "(640, 608, 3)\n"
     ]
    }
   ],
   "source": [
    "img = cv.imread('00000.png')\n",
    "img2 = cv.imread('jump.png')\n",
    "\n",
    "len, width = img2.shape[:2]\n",
    "\n",
    "newim = cv.resize(img2, (608, 640)) #dsize first is len, second is width Q. why insert width and height, not height and width?\n",
    "\n",
    "fix = 'fixed.png'\n",
    "\n",
    "cv.imwrite(fix, newim)\n",
    "fixedim = cv.imread('fixed.png')\n",
    "print(img.shape)\n",
    "print(img2.shape)\n",
    "print(fixedim.shape) # height, width, channel\n"
   ]
  },
  {
   "cell_type": "code",
   "execution_count": null,
   "metadata": {},
   "outputs": [],
   "source": []
  }
 ],
 "metadata": {
  "kernelspec": {
   "display_name": "Python 3.9.5 64-bit",
   "language": "python",
   "name": "python3"
  },
  "language_info": {
   "codemirror_mode": {
    "name": "ipython",
    "version": 3
   },
   "file_extension": ".py",
   "mimetype": "text/x-python",
   "name": "python",
   "nbconvert_exporter": "python",
   "pygments_lexer": "ipython3",
   "version": "3.9.5"
  },
  "orig_nbformat": 4,
  "vscode": {
   "interpreter": {
    "hash": "c5e828394cddfe9734a8a74623d2f1dc02dc704a715c426310168382ff9c4f60"
   }
  }
 },
 "nbformat": 4,
 "nbformat_minor": 2
}
